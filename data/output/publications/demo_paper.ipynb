{
  "cells": [
    {
      "cell_type": "raw",
      "metadata": {},
      "source": [
        "---  \n",
        "title: Demo Bariatric Paper\n",
        "subtitle: \"Compiling research data generated from this MBSA-QIP demonstration\"  \n",
        "date: last-modified  \n",
        "date-format: full  \n",
        "author:  \n",
        "  - name:  \n",
        "      given: Pranav Kumar  \n",
        "      family: Mishra  \n",
        "    affiliations:  \n",
        "      - ref: rushsurg  \n",
        "      - ref: rushortho  \n",
        "    corresponding: true  \n",
        "    url: https://drpranavmishra.com  \n",
        "    email: pranav_k_mishra@rush.edu  \n",
        "    orcid: 0000-0001-5219-6269    \n",
        "    role: \"Post Doctoral Research Fellow\"  \n",
        "format:  \n",
        "  html:  \n",
        "    code-fold: true \n",
        "  pdf: default\n",
        "  arxiv-pdf:\n",
        "    keep-tex: true \n",
        "    \n",
        "execute:   \n",
        "  enabled: true  \n",
        "  echo: false  \n",
        "  output: asis #true  \n",
        "---"
      ],
      "id": "e89615ab"
    },
    {
      "cell_type": "code",
      "metadata": {},
      "source": [
        "run_num = \"001\""
      ],
      "id": "3a309924",
      "execution_count": null,
      "outputs": []
    },
    {
      "cell_type": "code",
      "metadata": {},
      "source": [
        "import os, sys, socket\n",
        "import json\n",
        "import numpy as np\n",
        "repository_root = \"/home/pranav/work/pranavmishra90/courses/by-mishra/research-data-management\"\n",
        "\n",
        "# Get the computer name and the repository root\n",
        "\n",
        "# Get the name of the computer, then save it to an environment variable\n",
        "os.environ['computer_name']= socket.gethostname()\n",
        "\n",
        "if len(os.environ['computer_name']) == 12:\n",
        "    if os.path.exists('/home/coder/work'):\n",
        "        \n",
        "        is_docker = 'True'\n",
        "        os.environ['is_docker']=is_docker\n",
        "        os.chdir('/home/coder/work')\n",
        "        os.environ['repo_root']=os.getcwd()\n",
        "        print('This is a docker environment')\n",
        "\n",
        "    \n",
        "   \n",
        "elif os.path.exists(repository_root) == True:\n",
        "    is_docker = 'False'\n",
        "    os.environ['is_docker'] = is_docker\n",
        "    os.environ['repo_root'] = repository_root\n",
        "\n",
        "else:\n",
        "    is_docker = 'False'\n",
        "    os.environ['is_docker'] = is_docker\n",
        "    print(f\"Error finding the repository root for computer {os.environ['computer_name']}\")\n",
        "\n",
        "os.chdir(os.environ['repo_root'])"
      ],
      "id": "6f7623fe",
      "execution_count": null,
      "outputs": []
    },
    {
      "cell_type": "markdown",
      "metadata": {},
      "source": [
        "# Introduction\n",
        "Lorem ipsum dolor sit amet, consectetur adipiscing elit. Proin condimentum placerat est, eget scelerisque erat placerat sed. Pellentesque fringilla ex sed nibh venenatis elementum. Sed a turpis lacinia, placerat ante bibendum, luctus arcu. Phasellus finibus sagittis lorem a lobortis. Vivamus mollis placerat sollicitudin. Pellentesque eleifend lorem vel semper aliquet. Aenean ut est sit amet nisl varius blandit. Phasellus nec dolor nunc. Sed sed tempor orci.\n",
        "\n",
        "Fusce lorem lorem, maximus sed semper at, gravida in dolor. Vivamus in finibus metus, sit amet cursus mi. Fusce rhoncus metus vel lacus porttitor consequat. Etiam rhoncus tempor ultrices. Pellentesque sit amet nunc id ligula laoreet maximus quis ut libero. Nullam dictum mauris ac congue vehicula. Donec ultrices eu metus eget posuere. Quisque quis nisl tincidunt, rutrum elit in, pulvinar ex. Curabitur at ipsum tincidunt, sollicitudin massa vitae, viverra ante.\n",
        "\n",
        "# Methodology"
      ],
      "id": "17854d4a"
    },
    {
      "cell_type": "code",
      "metadata": {},
      "source": [
        "run_base_directory = \"data/analysis/bariatric/runs\"\n",
        "this_run_directory = os.path.join(run_base_directory, \"run_\" + run_num)\n",
        "parameters_path = f\"{this_run_directory}/text/Run{run_num}.parameters\"\n",
        "\n",
        "# Read the parameters from the file and execute them globally\n",
        "with open(parameters_path, 'r', encoding='utf-8') as file:\n",
        "    exec(file.read(), globals())"
      ],
      "id": "4129c126",
      "execution_count": null,
      "outputs": []
    },
    {
      "cell_type": "markdown",
      "metadata": {},
      "source": [
        "In this study, the authors examined a cohort of bariatric patients who had surgery between `{python} year_start` and `{python} year_stop`. Participant use files from the Metabolic and Bariatric Surgery Accreditation Quality Improvement Program (MBSAQIP) were first combined into one dataset.\n",
        "\n",
        "Next, we filtered the data, selecting for the following CPT Codes: `{python} \",\".join(CPT_filter)`.\n",
        "\n",
        "Nullam semper mi eu mi malesuada, et blandit mi convallis. Integer placerat est ipsum, sed rutrum magna convallis at. Maecenas eu mi ipsum. Praesent eu volutpat augue. Nulla tincidunt consequat dignissim. Etiam pretium, diam ac pharetra varius, lectus tortor bibendum felis, ac condimentum nibh ipsum nec lorem. Cras aliquam hendrerit diam, ac molestie enim bibendum a. Nam hendrerit eleifend elit, non ullamcorper enim finibus id. In a facilisis enim. Cras posuere, dui quis vestibulum luctus, sem eros condimentum augue, ac suscipit erat sapien non urna. Donec ut varius ex, non dignissim lorem. Cras sem magna, fermentum et arcu vel, accumsan placerat urna. Ut mattis lectus elit, a rhoncus tellus dapibus eu.\n",
        "\n",
        "# Results\n",
        "\n",
        "\n",
        "# Discussion"
      ],
      "id": "cf8b5da7"
    }
  ],
  "metadata": {
    "kernelspec": {
      "name": "python3",
      "language": "python",
      "display_name": "Python 3 (ipykernel)"
    }
  },
  "nbformat": 4,
  "nbformat_minor": 5
}